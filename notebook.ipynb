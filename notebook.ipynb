{
 "cells": [
  {
   "metadata": {
    "ExecuteTime": {
     "end_time": "2025-02-25T17:54:56.555707Z",
     "start_time": "2025-02-25T17:54:54.203014Z"
    }
   },
   "cell_type": "code",
   "source": [
    "import pandas as pd\n",
    "import numpy as np\n",
    "import matplotlib.pyplot as plt"
   ],
   "id": "fbc121e30a2defb3",
   "outputs": [],
   "execution_count": 1
  },
  {
   "metadata": {
    "ExecuteTime": {
     "end_time": "2025-02-25T17:54:56.607687Z",
     "start_time": "2025-02-25T17:54:56.566683Z"
    }
   },
   "cell_type": "code",
   "source": [
    "data = pd.read_csv('data.csv')\n",
    "print(data)"
   ],
   "id": "4d9a4e452bd424f8",
   "outputs": [
    {
     "name": "stdout",
     "output_type": "stream",
     "text": [
      "   1   2   3   4   5   6   7   8   9   ans\n",
      "0  1   1   1   1   1   1   0   0   0     6\n",
      "1  0   1   1   0   0   0   1   0   0     3\n",
      "2  1   1   0   1   0   0   0   0   1     4\n",
      "3  1   0   0   0   0   0   1   1   1     4\n",
      "4  0   1   1   0   0   1   0   1   0     4\n",
      "5  1   0   1   1   0   1   0   1   0     5\n",
      "6  0   0   1   1   1   0   1   0   0     4\n",
      "7  1   0   0   0   1   0   1   0   0     3\n",
      "8  1   1   1   1   1   1   0   1   0     7\n",
      "9  1   1   0   0   0   1   0   1   1     5\n"
     ]
    }
   ],
   "execution_count": 2
  },
  {
   "metadata": {
    "ExecuteTime": {
     "end_time": "2025-02-25T17:54:56.619589Z",
     "start_time": "2025-02-25T17:54:56.615005Z"
    }
   },
   "cell_type": "code",
   "source": [
    "class Perceptron:\n",
    "\n",
    "    def __init__(self, weights: list[int], bias: int) -> None:\n",
    "        self.b = bias\n",
    "        self.weights = weights\n",
    "        self.count_of_weights = len(weights)\n",
    "\n",
    "    def predict(self, sensor: list[int]) -> bool:\n",
    "        s = 0\n",
    "        for i in range(self.count_of_weights):\n",
    "            s += sensor[i] * self.weights[i]\n",
    "\n",
    "        return s >= self.b\n",
    "\n"
   ],
   "id": "76f6a83ed681f22d",
   "outputs": [],
   "execution_count": 3
  },
  {
   "metadata": {
    "ExecuteTime": {
     "end_time": "2025-02-25T17:54:57.276033Z",
     "start_time": "2025-02-25T17:54:57.270377Z"
    }
   },
   "cell_type": "code",
   "source": [
    "class TwoLayerPerceptron(Perceptron):\n",
    "    def __init__(self, weight: list[int], bias: int, weights : list[list [int]], biases: list [int]):\n",
    "        super().__init__(weight, bias)\n",
    "        self.first_layer = []\n",
    "        self.first_layer_len = len(weights)\n",
    "        for i in range(self.first_layer_len):\n",
    "            self.first_layer.append(Perceptron(weights[i], biases[i]))\n",
    "\n",
    "    def predict_tlp(self, sensor: list[int]):\n",
    "        first_layer = []\n",
    "        for i in range(self.first_layer_len):\n",
    "            first_layer.append(self.first_layer[i].predict(sensor))\n",
    "        return first_layer\n",
    "\n",
    "    def predict(self, sensor: list[int]) -> int:\n",
    "        sensor = self.predict_tlp(sensor)\n",
    "\n",
    "        s = 0\n",
    "        for i in range(self.count_of_weights):\n",
    "            s += sensor[i] * self.weights[i]\n",
    "\n",
    "        return s + self.b\n"
   ],
   "id": "7b9fadf536022b54",
   "outputs": [],
   "execution_count": 4
  },
  {
   "metadata": {
    "ExecuteTime": {
     "end_time": "2025-02-25T17:54:57.285360Z",
     "start_time": "2025-02-25T17:54:57.281022Z"
    }
   },
   "cell_type": "code",
   "source": [
    "class Process:\n",
    "    def __init__(self, perceptron, ans):\n",
    "        self.length = len(perceptron)\n",
    "        self.perceptron = perceptron\n",
    "        self.ans = ans\n",
    "\n",
    "    def predict(self, sensor):\n",
    "        res = []\n",
    "        for i in range(self.length):\n",
    "            if self.perceptron[i].predict_tlp(sensor):\n",
    "                res.append(self.ans[i])\n",
    "        if len(res) == 0:\n",
    "            res.append('другое')\n",
    "        return res"
   ],
   "id": "7a1c6cfb9556681f",
   "outputs": [],
   "execution_count": 5
  },
  {
   "metadata": {
    "ExecuteTime": {
     "end_time": "2025-02-25T18:10:16.054585Z",
     "start_time": "2025-02-25T18:10:16.049218Z"
    }
   },
   "cell_type": "code",
   "source": [
    "\n",
    "def build_plot(index):\n",
    "    \n",
    "    arr = data.to_numpy()[index]\n",
    "    lines = (((0, 1), (2, 2)),\n",
    "    ((1, 1), (2, 1)),\n",
    "    ((1, 1), (0, 1)),\n",
    "    ((1, 0), (0, 0)),\n",
    "    ((0, 0), (0, 1)),\n",
    "    ((0, 0), (1, 2)),\n",
    "    ((0, 1), (1, 2)),\n",
    "    ((1, 0), (1, 1)),\n",
    "    ((0, 1), (0, 1)))\n",
    "    colors = ['gray', '#00aeef'] # цвета серый и цвет ТюмГУ\n",
    "    linestyles = ['--', '-']\n",
    "    for i in range(9):\n",
    "        plt.plot(lines[i][0], lines[i][1], ls=linestyles[arr[i]], c=colors[arr[i]])\n",
    "    plt.axis('equal')"
   ],
   "id": "e717cb6104a027d6",
   "outputs": [],
   "execution_count": 11
  },
  {
   "metadata": {
    "ExecuteTime": {
     "end_time": "2025-02-25T17:54:57.361584Z",
     "start_time": "2025-02-25T17:54:57.359492Z"
    }
   },
   "cell_type": "code",
   "source": "\n",
   "id": "951712910967cf4f",
   "outputs": [],
   "execution_count": 6
  },
  {
   "metadata": {
    "ExecuteTime": {
     "end_time": "2025-02-25T17:54:57.378172Z",
     "start_time": "2025-02-25T17:54:57.370581Z"
    }
   },
   "cell_type": "code",
   "source": [
    "w = data.iloc[:, :9].apply(lambda x: 2*x - 1).to_numpy()\n",
    "b = data.iloc[:, 9:10].to_numpy().reshape(1, -1)[0]\n",
    "print(b)"
   ],
   "id": "10a9228a3373cdce",
   "outputs": [
    {
     "name": "stdout",
     "output_type": "stream",
     "text": [
      "[6 3 4 4 4 5 4 3 7 5]\n"
     ]
    }
   ],
   "execution_count": 7
  },
  {
   "metadata": {
    "ExecuteTime": {
     "end_time": "2025-02-25T17:56:38.221286Z",
     "start_time": "2025-02-25T17:56:38.097Z"
    }
   },
   "cell_type": "code",
   "source": [
    "nums_perceptron = TwoLayerPerceptron(list(range(1, 11)), -1, w, b)\n",
    "nums = data.iloc[:, :9].to_numpy()\n",
    "num = nums[2] # выбираем какое число подать из данных\n",
    "ans = nums_perceptron.predict(num) # получаем ответ\n",
    "print('Ответ перспетрона: ', ans)\n",
    "build_plot(ans) #строим график"
   ],
   "id": "cd041b3e0fac1a76",
   "outputs": [
    {
     "name": "stdout",
     "output_type": "stream",
     "text": [
      "Ответ перспетрона:  2\n"
     ]
    },
    {
     "data": {
      "text/plain": [
       "<Figure size 640x480 with 1 Axes>"
      ],
      "image/png": "[encoded data removed]"
     },
     "metadata": {},
     "output_type": "display_data"
    }
   ],
   "execution_count": 10
  },
  {
   "metadata": {},
   "cell_type": "markdown",
   "source": "Вариант оптимизации брать только 1 6 7 8 9 признаки вот их график",
   "id": "e908239ee9e2a821"
  },
  {
   "metadata": {
    "ExecuteTime": {
     "end_time": "2025-02-25T18:11:11.250818Z",
     "start_time": "2025-02-25T18:11:11.129851Z"
    }
   },
   "cell_type": "code",
   "source": [
    "arr = [1, 0, 0, 0, 1, 0, 1, 1, 1]\n",
    "lines = (((0, 1), (2, 2)),\n",
    "((1, 1), (2, 1)),\n",
    "((1, 1), (0, 1)),\n",
    "((1, 0), (0, 0)),\n",
    "((0, 0), (0, 1)),\n",
    "((0, 0), (1, 2)),\n",
    "((0, 1), (1, 2)),\n",
    "((1, 0), (1, 1)),\n",
    "((0, 1), (0, 1)))\n",
    "colors = ['gray', '#00aeef'] # цвета серый и цвет ТюмГУ\n",
    "linestyles = ['--', '-']\n",
    "for i in range(9):\n",
    "    plt.plot(lines[i][0], lines[i][1], ls=linestyles[arr[i]], c=colors[arr[i]])\n",
    "plt.axis('equal')"
   ],
   "id": "78e933e5516996e8",
   "outputs": [
    {
     "data": {
      "text/plain": [
       "(np.float64(-0.05), np.float64(1.05), np.float64(-0.1), np.float64(2.1))"
      ]
     },
     "execution_count": 12,
     "metadata": {},
     "output_type": "execute_result"
    },
    {
     "data": {
      "text/plain": [
       "<Figure size 640x480 with 1 Axes>"
      ],
      "image/png": "[encoded data removed]"
     },
     "metadata": {},
     "output_type": "display_data"
    }
   ],
   "execution_count": 12
  },
  {
   "metadata": {
    "ExecuteTime": {
     "end_time": "2025-02-25T18:15:15.151554Z",
     "start_time": "2025-02-25T18:15:15.140917Z"
    }
   },
   "cell_type": "code",
   "source": [
    "data_opt = data.drop([' 2', ' 3', ' 4', ' 6'], axis=1)\n",
    "data_opt"
   ],
   "id": "5ed2df3842569138",
   "outputs": [
    {
     "data": {
      "text/plain": [
       "   1   5   7   8   9   ans\n",
       "0  1   1   0   0   0     6\n",
       "1  0   0   1   0   0     3\n",
       "2  1   0   0   0   1     4\n",
       "3  1   0   1   1   1     4\n",
       "4  0   0   0   1   0     4\n",
       "5  1   0   0   1   0     5\n",
       "6  0   1   1   0   0     4\n",
       "7  1   1   1   0   0     3\n",
       "8  1   1   0   1   0     7\n",
       "9  1   0   0   1   1     5"
      ],
      "text/html": [
       "<div>\n",
       "<style scoped>\n",
       "    .dataframe tbody tr th:only-of-type {\n",
       "        vertical-align: middle;\n",
       "    }\n",
       "\n",
       "    .dataframe tbody tr th {\n",
       "        vertical-align: top;\n",
       "    }\n",
       "\n",
       "    .dataframe thead th {\n",
       "        text-align: right;\n",
       "    }\n",
       "</style>\n",
       "<table border=\"1\" class=\"dataframe\">\n",
       "  <thead>\n",
       "    <tr style=\"text-align: right;\">\n",
       "      <th></th>\n",
       "      <th>1</th>\n",
       "      <th>5</th>\n",
       "      <th>7</th>\n",
       "      <th>8</th>\n",
       "      <th>9</th>\n",
       "      <th>ans</th>\n",
       "    </tr>\n",
       "  </thead>\n",
       "  <tbody>\n",
       "    <tr>\n",
       "      <th>0</th>\n",
       "      <td>1</td>\n",
       "      <td>1</td>\n",
       "      <td>0</td>\n",
       "      <td>0</td>\n",
       "      <td>0</td>\n",
       "      <td>6</td>\n",
       "    </tr>\n",
       "    <tr>\n",
       "      <th>1</th>\n",
       "      <td>0</td>\n",
       "      <td>0</td>\n",
       "      <td>1</td>\n",
       "      <td>0</td>\n",
       "      <td>0</td>\n",
       "      <td>3</td>\n",
       "    </tr>\n",
       "    <tr>\n",
       "      <th>2</th>\n",
       "      <td>1</td>\n",
       "      <td>0</td>\n",
       "      <td>0</td>\n",
       "      <td>0</td>\n",
       "      <td>1</td>\n",
       "      <td>4</td>\n",
       "    </tr>\n",
       "    <tr>\n",
       "      <th>3</th>\n",
       "      <td>1</td>\n",
       "      <td>0</td>\n",
       "      <td>1</td>\n",
       "      <td>1</td>\n",
       "      <td>1</td>\n",
       "      <td>4</td>\n",
       "    </tr>\n",
       "    <tr>\n",
       "      <th>4</th>\n",
       "      <td>0</td>\n",
       "      <td>0</td>\n",
       "      <td>0</td>\n",
       "      <td>1</td>\n",
       "      <td>0</td>\n",
       "      <td>4</td>\n",
       "    </tr>\n",
       "    <tr>\n",
       "      <th>5</th>\n",
       "      <td>1</td>\n",
       "      <td>0</td>\n",
       "      <td>0</td>\n",
       "      <td>1</td>\n",
       "      <td>0</td>\n",
       "      <td>5</td>\n",
       "    </tr>\n",
       "    <tr>\n",
       "      <th>6</th>\n",
       "      <td>0</td>\n",
       "      <td>1</td>\n",
       "      <td>1</td>\n",
       "      <td>0</td>\n",
       "      <td>0</td>\n",
       "      <td>4</td>\n",
       "    </tr>\n",
       "    <tr>\n",
       "      <th>7</th>\n",
       "      <td>1</td>\n",
       "      <td>1</td>\n",
       "      <td>1</td>\n",
       "      <td>0</td>\n",
       "      <td>0</td>\n",
       "      <td>3</td>\n",
       "    </tr>\n",
       "    <tr>\n",
       "      <th>8</th>\n",
       "      <td>1</td>\n",
       "      <td>1</td>\n",
       "      <td>0</td>\n",
       "      <td>1</td>\n",
       "      <td>0</td>\n",
       "      <td>7</td>\n",
       "    </tr>\n",
       "    <tr>\n",
       "      <th>9</th>\n",
       "      <td>1</td>\n",
       "      <td>0</td>\n",
       "      <td>0</td>\n",
       "      <td>1</td>\n",
       "      <td>1</td>\n",
       "      <td>5</td>\n",
       "    </tr>\n",
       "  </tbody>\n",
       "</table>\n",
       "</div>"
      ]
     },
     "execution_count": 25,
     "metadata": {},
     "output_type": "execute_result"
    }
   ],
   "execution_count": 25
  },
  {
   "metadata": {
    "ExecuteTime": {
     "end_time": "2025-02-25T18:21:14.815751Z",
     "start_time": "2025-02-25T18:21:14.809589Z"
    }
   },
   "cell_type": "code",
   "source": [
    "def build_plot_opt(arr):\n",
    "    lines = (((0, 1), (2, 2)),\n",
    "        ((0, 0), (0, 1)),\n",
    "        ((0, 1), (1, 2)),\n",
    "        ((1, 0), (1, 1)),\n",
    "        ((0, 1), (0, 1)))\n",
    "    lines_gray = (((1, 1), (2, 1)), ((1, 1), (0, 1)), ((1, 0), (0, 0)), ((0, 0), (1, 2)))\n",
    "    colors = ['gray', '#00aeef'] # цвета серый и цвет ТюмГУ\n",
    "    linestyles = ['--', '-']\n",
    "    for i in range(4):\n",
    "        plt.plot(lines_gray[i][0], lines_gray[i][1], ls=linestyles[0], c=colors[0])\n",
    "    for i in range(5):\n",
    "        plt.plot(lines[i][0], lines[i][1], ls=linestyles[arr[i]], c=colors[arr[i]])\n",
    "    plt.axis('equal')\n",
    "print(data_opt.iloc[:, :-1].to_numpy()[0])"
   ],
   "id": "84605c9babd52317",
   "outputs": [
    {
     "name": "stdout",
     "output_type": "stream",
     "text": [
      "[1 1 0 0 0]\n"
     ]
    }
   ],
   "execution_count": 35
  },
  {
   "metadata": {},
   "cell_type": "markdown",
   "source": "без лишних признаков",
   "id": "90159a3d3565f4e1"
  },
  {
   "metadata": {
    "ExecuteTime": {
     "end_time": "2025-02-25T18:39:50.085309Z",
     "start_time": "2025-02-25T18:39:49.565325Z"
    }
   },
   "cell_type": "code",
   "source": [
    "for x in range(10):\n",
    "        ax = plt.subplot(2, 5, 1 + x)\n",
    "        build_plot_opt(data_opt.iloc[:, :-1].to_numpy()[x])\n",
    "        ax.grid(False)\n",
    "        ax.axis('off')\n",
    "        plt.title(x)\n",
    "plt.tight_layout()\n"
   ],
   "id": "ba8ed26cd3ff28be",
   "outputs": [
    {
     "data": {
      "text/plain": [
       "<Figure size 640x480 with 10 Axes>"
      ],
      "image/png": "[encoded data removed]"
     },
     "metadata": {},
     "output_type": "display_data"
    }
   ],
   "execution_count": 63
  },
  {
   "metadata": {
    "ExecuteTime": {
     "end_time": "2025-02-25T18:49:14.835301Z",
     "start_time": "2025-02-25T18:49:14.828340Z"
    }
   },
   "cell_type": "code",
   "source": [
    "w = data_opt.iloc[:, :5].apply(lambda x: 2*x - 1).to_numpy()\n",
    "print(w)\n",
    "b = [2, 1, 2, 4, 1, 2, 2, 3, 3, 3]\n",
    "nums_perceptron_opt = TwoLayerPerceptron(list(range(1, 11)), -1, w, b)"
   ],
   "id": "34fd53aeebf59fb5",
   "outputs": [
    {
     "name": "stdout",
     "output_type": "stream",
     "text": [
      "[[ 1  1 -1 -1 -1]\n",
      " [-1 -1  1 -1 -1]\n",
      " [ 1 -1 -1 -1  1]\n",
      " [ 1 -1  1  1  1]\n",
      " [-1 -1 -1  1 -1]\n",
      " [ 1 -1 -1  1 -1]\n",
      " [-1  1  1 -1 -1]\n",
      " [ 1  1  1 -1 -1]\n",
      " [ 1  1 -1  1 -1]\n",
      " [ 1 -1 -1  1  1]]\n"
     ]
    }
   ],
   "execution_count": 70
  },
  {
   "metadata": {
    "ExecuteTime": {
     "end_time": "2025-02-25T18:49:18.382254Z",
     "start_time": "2025-02-25T18:49:18.263302Z"
    }
   },
   "cell_type": "code",
   "source": [
    "nums = data_opt.iloc[:, :9].to_numpy()\n",
    "num = nums[2] # выбираем какое число подать из данных\n",
    "ans = nums_perceptron_opt.predict(num) # получаем ответ\n",
    "print('Ответ перспетрона: ', ans)\n",
    "build_plot(ans) #строим график"
   ],
   "id": "fb71e1328856abe9",
   "outputs": [
    {
     "name": "stdout",
     "output_type": "stream",
     "text": [
      "Ответ перспетрона:  2\n"
     ]
    },
    {
     "data": {
      "text/plain": [
       "<Figure size 640x480 with 1 Axes>"
      ],
      "image/png": "[encoded data removed]"
     },
     "metadata": {},
     "output_type": "display_data"
    }
   ],
   "execution_count": 71
  },
  {
   "metadata": {},
   "cell_type": "code",
   "outputs": [],
   "execution_count": null,
   "source": "",
   "id": "d9a23be5acdfff04"
  }
 ],
 "metadata": {
  "kernelspec": {
   "display_name": "Python 3",
   "language": "python",
   "name": "python3"
  },
  "language_info": {
   "codemirror_mode": {
    "name": "ipython",
    "version": 2
   },
   "file_extension": ".py",
   "mimetype": "text/x-python",
   "name": "python",
   "nbconvert_exporter": "python",
   "pygments_lexer": "ipython2",
   "version": "2.7.6"
  }
 },
 "nbformat": 4,
 "nbformat_minor": 5
}
