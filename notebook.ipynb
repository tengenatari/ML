{
 "cells": [
  {
   "metadata": {},
   "cell_type": "markdown",
   "source": [
    "# This is a sample Jupyter Notebook\n",
    "\n",
    "Below is an example of a code cell. \n",
    "Put your cursor into the cell and press Shift+Enter to execute it and select the next one, or click 'Run Cell' button.\n",
    "\n",
    "Press Double Shift to search everywhere for classes, files, tool windows, actions, and settings.\n",
    "\n",
    "To learn more about Jupyter Notebooks in PyCharm, see [help](https://www.jetbrains.com/help/pycharm/ipython-notebook-support.html).\n",
    "For an overview of PyCharm, go to Help -> Learn IDE features or refer to [our documentation](https://www.jetbrains.com/help/pycharm/getting-started.html)."
   ],
   "id": "8a77807f92f26ee"
  },
  {
   "metadata": {
    "ExecuteTime": {
     "end_time": "2025-02-21T06:06:18.639016Z",
     "start_time": "2025-02-21T06:06:14.256340Z"
    }
   },
   "cell_type": "code",
   "source": [
    "import pandas as pd\n",
    "import numpy as np\n",
    "import matplotlib.pyplot as plt"
   ],
   "id": "fbc121e30a2defb3",
   "outputs": [],
   "execution_count": 42
  },
  {
   "metadata": {
    "ExecuteTime": {
     "end_time": "2025-02-21T07:40:11.866918Z",
     "start_time": "2025-02-21T07:40:11.828067Z"
    }
   },
   "cell_type": "code",
   "source": [
    "data = pd.read_csv('data.csv')\n",
    "print(data)"
   ],
   "id": "4d9a4e452bd424f8",
   "outputs": [
    {
     "name": "stdout",
     "output_type": "stream",
     "text": [
      "   1   2   3   4   5   6   7   8   9   ans\n",
      "0  1   1   1   1   1   1   0   0   0     6\n",
      "1  0   1   1   0   0   0   1   0   0     3\n",
      "2  1   1   0   1   0   0   0   0   1     4\n",
      "3  1   0   0   0   0   0   1   1   1     4\n",
      "4  0   1   1   0   0   1   0   1   0     4\n",
      "5  1   0   1   1   0   1   0   1   0     5\n",
      "6  0   0   1   1   1   0   1   0   0     4\n",
      "7  1   0   0   0   1   0   1   0   0     3\n",
      "8  1   1   1   1   1   1   0   1   0     7\n",
      "9  1   1   0   0   0   1   0   1   1     5\n"
     ]
    }
   ],
   "execution_count": 206
  },
  {
   "metadata": {
    "ExecuteTime": {
     "end_time": "2025-02-21T07:45:25.037278Z",
     "start_time": "2025-02-21T07:45:25.021972Z"
    }
   },
   "cell_type": "code",
   "source": [
    "class Perceptron:\n",
    "\n",
    "    def __init__(self, weights: list[int], bias: int) -> None:\n",
    "        self.b = bias\n",
    "        self.weights = weights\n",
    "        self.count_of_weights = len(weights)\n",
    "\n",
    "    def predict(self, sensor: list[int]) -> bool:\n",
    "        s = 0\n",
    "        for i in range(self.count_of_weights):\n",
    "            s += sensor[i] * self.weights[i]\n",
    "\n",
    "        return s >= self.b\n",
    "\n"
   ],
   "id": "76f6a83ed681f22d",
   "outputs": [],
   "execution_count": 223
  },
  {
   "metadata": {
    "ExecuteTime": {
     "end_time": "2025-02-21T07:47:18.287032Z",
     "start_time": "2025-02-21T07:47:18.256465Z"
    }
   },
   "cell_type": "code",
   "source": [
    "class TwoLayerPerceptron(Perceptron):\n",
    "    def __init__(self, weight: list[int], bias: int, weights : list[list [int]], biases: list [int]):\n",
    "        super().__init__(weight, bias)\n",
    "        self.first_layer = []\n",
    "        self.first_layer_len = len(weights)\n",
    "        for i in range(self.first_layer_len):\n",
    "            self.first_layer.append(Perceptron(weights[i], biases[i]))\n",
    "\n",
    "    def predict_tlp(self, sensor: list[int]):\n",
    "        first_layer = []\n",
    "        for i in range(self.first_layer_len):\n",
    "            first_layer.append(self.first_layer[i].predict(sensor))\n",
    "        return first_layer\n",
    "\n",
    "    def predict(self, sensor: list[int]) -> int:\n",
    "        sensor = self.predict_tlp(sensor)\n",
    "\n",
    "        s = 0\n",
    "        for i in range(self.count_of_weights):\n",
    "            s += sensor[i] * self.weights[i]\n",
    "\n",
    "        return s + self.b\n"
   ],
   "id": "7b9fadf536022b54",
   "outputs": [],
   "execution_count": 232
  },
  {
   "metadata": {
    "ExecuteTime": {
     "end_time": "2025-02-21T07:47:18.717044Z",
     "start_time": "2025-02-21T07:47:18.703823Z"
    }
   },
   "cell_type": "code",
   "source": [
    "class Process:\n",
    "    def __init__(self, perceptron, ans):\n",
    "        self.length = len(perceptron)\n",
    "        self.perceptron = perceptron\n",
    "        self.ans = ans\n",
    "\n",
    "    def predict(self, sensor):\n",
    "        res = []\n",
    "        for i in range(self.length):\n",
    "            if self.perceptron[i].predict_tlp(sensor):\n",
    "                res.append(self.ans[i])\n",
    "        if len(res) == 0:\n",
    "            res.append('другое')\n",
    "        return res"
   ],
   "id": "7a1c6cfb9556681f",
   "outputs": [],
   "execution_count": 233
  },
  {
   "metadata": {
    "ExecuteTime": {
     "end_time": "2025-02-21T07:47:19.217742Z",
     "start_time": "2025-02-21T07:47:19.197366Z"
    }
   },
   "cell_type": "code",
   "source": [
    "\n",
    "def build_plot(index):\n",
    "    \n",
    "    arr = data.to_numpy()[index]\n",
    "    lines = (((0, 1), (2, 2)),\n",
    "    ((1, 1), (2, 1)),\n",
    "    ((1, 1), (0, 1)),\n",
    "    ((1, 0), (0, 0)),\n",
    "    ((0, 0), (0, 1)),\n",
    "    ((0, 0), (1, 2)),\n",
    "    ((0, 1), (1, 2)),\n",
    "    ((1, 0), (1, 1)),\n",
    "    ((0, 1), (0, 1)))\n",
    "    colors = ['gray', '#00aeef']\n",
    "    linestyles = ['--', '-']\n",
    "    for i in range(9):\n",
    "        plt.plot(lines[i][0], lines[i][1], ls=linestyles[arr[i]], c=colors[arr[i]])\n",
    "    plt.axis('equal')"
   ],
   "id": "e717cb6104a027d6",
   "outputs": [],
   "execution_count": 234
  },
  {
   "metadata": {
    "ExecuteTime": {
     "end_time": "2025-02-21T07:47:19.777712Z",
     "start_time": "2025-02-21T07:47:19.767862Z"
    }
   },
   "cell_type": "code",
   "source": "\n",
   "id": "951712910967cf4f",
   "outputs": [],
   "execution_count": 234
  },
  {
   "metadata": {
    "ExecuteTime": {
     "end_time": "2025-02-21T07:47:20.341255Z",
     "start_time": "2025-02-21T07:47:20.316507Z"
    }
   },
   "cell_type": "code",
   "source": [
    "w = data.iloc[:, :9].apply(lambda x: 2*x - 1).to_numpy()\n",
    "b = data.iloc[:, 9:10].to_numpy().reshape(1, -1)[0]\n",
    "print(b)"
   ],
   "id": "10a9228a3373cdce",
   "outputs": [
    {
     "name": "stdout",
     "output_type": "stream",
     "text": [
      "[6 3 4 4 4 5 4 3 7 5]\n"
     ]
    }
   ],
   "execution_count": 235
  },
  {
   "metadata": {
    "ExecuteTime": {
     "end_time": "2025-02-21T07:47:48.882477Z",
     "start_time": "2025-02-21T07:47:48.519575Z"
    }
   },
   "cell_type": "code",
   "source": [
    "nums_perceptron = TwoLayerPerceptron(list(range(1, 11)), -1, w, b)\n",
    "nums = data.iloc[:, :9].to_numpy()\n",
    "\n",
    "build_plot(nums_perceptron.predict(nums[0]))"
   ],
   "id": "cd041b3e0fac1a76",
   "outputs": [
    {
     "name": "stdout",
     "output_type": "stream",
     "text": [
      "0\n"
     ]
    },
    {
     "data": {
      "text/plain": [
       "<Figure size 640x480 with 1 Axes>"
      ],
      "image/png": "[encoded data removed]"
     },
     "metadata": {},
     "output_type": "display_data"
    }
   ],
   "execution_count": 238
  },
  {
   "metadata": {
    "ExecuteTime": {
     "end_time": "2025-02-21T07:43:53.291660Z",
     "start_time": "2025-02-21T07:43:53.277157Z"
    }
   },
   "cell_type": "code",
   "source": "",
   "id": "382f55bc55612099",
   "outputs": [],
   "execution_count": null
  },
  {
   "metadata": {},
   "cell_type": "code",
   "outputs": [],
   "execution_count": null,
   "source": "",
   "id": "78e933e5516996e8"
  }
 ],
 "metadata": {
  "kernelspec": {
   "display_name": "Python 3",
   "language": "python",
   "name": "python3"
  },
  "language_info": {
   "codemirror_mode": {
    "name": "ipython",
    "version": 2
   },
   "file_extension": ".py",
   "mimetype": "text/x-python",
   "name": "python",
   "nbconvert_exporter": "python",
   "pygments_lexer": "ipython2",
   "version": "2.7.6"
  }
 },
 "nbformat": 4,
 "nbformat_minor": 5
}
